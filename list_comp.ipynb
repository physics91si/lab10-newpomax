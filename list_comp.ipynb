{
 "cells": [
  {
   "cell_type": "code",
   "execution_count": 45,
   "metadata": {},
   "outputs": [
    {
     "name": "stdout",
     "output_type": "stream",
     "text": [
      "['a', 'b', 'c', 'd', 'e', 'f', 'g', 'h', 'i', 'j']\n",
      "['a', 'b', 'c', 'd', 'e', 'g', 'h', 'i', 'j']\n",
      "['a', 'aa', 'aaa', 'b', 'bb', 'bbb', 'c', 'cc', 'ccc', 'd', 'dd', 'ddd', 'e', 'ee', 'eee', 'g', 'gg', 'ggg', 'h', 'hh', 'hhh', 'i', 'ii', 'iii', 'j', 'jj', 'jjj']\n",
      "[['a', 'aa', 'aaa'], ['b', 'bb', 'bbb'], ['c', 'cc', 'ccc'], ['d', 'dd', 'ddd'], ['e', 'ee', 'eee'], ['g', 'gg', 'ggg'], ['h', 'hh', 'hhh'], ['i', 'ii', 'iii'], ['j', 'jj', 'jjj']]\n",
      "[['A', 'aa', 'aaa'], ['b', 'BB', 'bbb'], ['c', 'cc', 'CCC'], ['D', 'dd', 'ddd'], ['e', 'EE', 'eee'], ['g', 'gg', 'GGG'], ['H', 'hh', 'hhh'], ['i', 'II', 'iii'], ['j', 'jj', 'JJJ']]\n"
     ]
    }
   ],
   "source": [
    "import string\n",
    "alphabet = string.ascii_lowercase\n",
    "\n",
    "first_10 = [x for ind, x in enumerate(alphabet) if 10 > ind >= 0]\n",
    "\n",
    "first_10_not_6 = [x for ind, x in enumerate(alphabet) if 10 > ind >= 0 and ind != 5]\n",
    "\n",
    "first_10_not_6_repeated = [y for x in [x for ind, x in enumerate(alphabet) if 10 > ind >= 0 and ind != 5] for y in [x,x+x,x+x+x]]\n",
    "\n",
    "first_10_not_6_grid = [[y,y+y,y+y+y] for y in [x for ind, x in enumerate(alphabet) if 10 > ind >= 0 and ind != 5]]\n",
    "\n",
    "grid_mod3_caps= [[y[0].upper(),y[1],y[2]] if ind%3==0 else [y[0],y[1].upper(),y[2]] if ind%3==1 else [y[0],y[1],y[2].upper()] for ind,y in enumerate(first_10_not_6_grid)]\n",
    "\n",
    "print(first_10)\n",
    "print(first_10_not_6)\n",
    "print(first_10_not_6_repeated)\n",
    "print(first_10_not_6_grid)\n",
    "print(grid_mod3_caps)\n"
   ]
  }
 ],
 "metadata": {
  "kernelspec": {
   "display_name": "Python [conda env:py36]",
   "language": "python",
   "name": "conda-env-py36-py"
  },
  "language_info": {
   "codemirror_mode": {
    "name": "ipython",
    "version": 3
   },
   "file_extension": ".py",
   "mimetype": "text/x-python",
   "name": "python",
   "nbconvert_exporter": "python",
   "pygments_lexer": "ipython3",
   "version": "3.6.4"
  }
 },
 "nbformat": 4,
 "nbformat_minor": 2
}
