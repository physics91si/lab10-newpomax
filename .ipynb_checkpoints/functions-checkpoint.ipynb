{
 "cells": [
  {
   "cell_type": "code",
   "execution_count": 10,
   "metadata": {},
   "outputs": [
    {
     "name": "stdout",
     "output_type": "stream",
     "text": [
      "[1, 4, 9, 16, 25, 36, 49, 64, 81, 100]\n",
      "[1, 4, 9, 16, 25, 36, 49, 64, 81, 100]\n",
      "120\n",
      "['file1', 'file2', 'file3']\n"
     ]
    }
   ],
   "source": [
    "from functools import reduce\n",
    "import string\n",
    "squares_lc = [x**2 for x in range(1,11,1)]\n",
    "print(squares_lc)\n",
    "squares_lam = list(map(lambda x :x**2, range(1,11,1)))\n",
    "print(squares_lam)\n",
    "multiplied = reduce(lambda x,y : x*y, range(1,6))\n",
    "print(multiplied)\n",
    "files = ['file1.py','file2.txt','file3.exe']\n",
    "files_minus_ext=[x[:x.find('.')] for x in files]\n",
    "print(files_minus_ext)"
   ]
  }
 ],
 "metadata": {
  "kernelspec": {
   "display_name": "Python [conda env:py36]",
   "language": "python",
   "name": "conda-env-py36-py"
  },
  "language_info": {
   "codemirror_mode": {
    "name": "ipython",
    "version": 3
   },
   "file_extension": ".py",
   "mimetype": "text/x-python",
   "name": "python",
   "nbconvert_exporter": "python",
   "pygments_lexer": "ipython3",
   "version": "3.6.4"
  }
 },
 "nbformat": 4,
 "nbformat_minor": 2
}
